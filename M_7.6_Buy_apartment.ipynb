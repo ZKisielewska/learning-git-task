{
  "nbformat": 4,
  "nbformat_minor": 0,
  "metadata": {
    "colab": {
      "provenance": [],
      "authorship_tag": "ABX9TyPPlJLQJC1n8uFexYRJjPyL",
      "include_colab_link": true
    },
    "kernelspec": {
      "name": "python3",
      "display_name": "Python 3"
    },
    "language_info": {
      "name": "python"
    }
  },
  "cells": [
    {
      "cell_type": "markdown",
      "metadata": {
        "id": "view-in-github",
        "colab_type": "text"
      },
      "source": [
        "<a href=\"https://colab.research.google.com/github/ZKisielewska/learning-git-task/blob/master/Module_7_Task.ipynb\" target=\"_parent\"><img src=\"https://colab.research.google.com/assets/colab-badge.svg\" alt=\"Open In Colab\"/></a>"
      ]
    },
    {
      "cell_type": "markdown",
      "source": [
        "### **Computing the price of an apartment and deposit savings**\n",
        "You are going to buy an apartment which currently costs 120,000.. You predict that over the next 5 years housing prices will increase at a rate of 5% per year. At this point, you don't have enough funds, so you find a bank offer that offers a deposit to which you pay a fixed amount at the end of each month. The bank offers a nominal interest rate of 12% per annum, compounded monthly.\n",
        "\n",
        "1. What will be the approximate price of the apartment in 5 years?\n",
        "2. How much do you have to pay to the bank each month to raise money for a flat within 5 years with the presented offer?"
      ],
      "metadata": {
        "id": "0KKEP1GbZubR"
      }
    },
    {
      "cell_type": "code",
      "source": [
        "!pip install numpy-financial"
      ],
      "metadata": {
        "colab": {
          "base_uri": "https://localhost:8080/"
        },
        "id": "8nLGXBNCa9HZ",
        "outputId": "3686bd59-5336-4df3-b97e-963fc3c61b7d"
      },
      "execution_count": 18,
      "outputs": [
        {
          "output_type": "stream",
          "name": "stdout",
          "text": [
            "Looking in indexes: https://pypi.org/simple, https://us-python.pkg.dev/colab-wheels/public/simple/\n",
            "Requirement already satisfied: numpy-financial in /usr/local/lib/python3.10/dist-packages (1.0.0)\n",
            "Requirement already satisfied: numpy>=1.15 in /usr/local/lib/python3.10/dist-packages (from numpy-financial) (1.22.4)\n"
          ]
        }
      ]
    },
    {
      "cell_type": "code",
      "source": [
        "import numpy as np\n",
        "import numpy_financial as npf\n",
        "import matplotlib.pyplot as plt"
      ],
      "metadata": {
        "id": "vN11LxNhauKc"
      },
      "execution_count": 19,
      "outputs": []
    },
    {
      "cell_type": "code",
      "source": [
        "# Input data for approximate price of an apartment\n",
        "freq = 12\n",
        "rate = 0.05\n",
        "years = 5\n",
        "pv = 120000\n",
        "pmt = 0\n",
        "\n",
        "rate /= freq # rate conversion to a monthly period\n",
        "nper = years * freq # number of all periods\n",
        "periods = np.arange(1, nper+1, dtype=int)"
      ],
      "metadata": {
        "id": "fO0kOYGtaJLE"
      },
      "execution_count": 20,
      "outputs": []
    },
    {
      "cell_type": "code",
      "source": [
        "# total price of flat in 5 years\n",
        "apartment_price = - np.around(npf.fv(rate, nper, pmt, pv),2)\n",
        "apartment_price\n",
        "print(f\"The approximate price of the apartment in 5 years will be: {apartment_price}\")"
      ],
      "metadata": {
        "colab": {
          "base_uri": "https://localhost:8080/"
        },
        "id": "jdeK_8Bdaq5K",
        "outputId": "6dbdb428-7f5e-4fff-8bbf-e37e85e99e82"
      },
      "execution_count": 21,
      "outputs": [
        {
          "output_type": "stream",
          "name": "stdout",
          "text": [
            "The approximate price of the apartment in 5 years will be: 154003.04\n"
          ]
        }
      ]
    },
    {
      "cell_type": "code",
      "source": [
        "# mothly increase in the price of the apartment\n",
        "monthly_price_increase = - np.around(npf.fv(rate, periods, pmt, pv),2)\n",
        "monthly_price_increase"
      ],
      "metadata": {
        "colab": {
          "base_uri": "https://localhost:8080/"
        },
        "id": "k_4dwtopbYbj",
        "outputId": "1dda8c24-f328-4937-c8c5-c686d7da36a0"
      },
      "execution_count": 22,
      "outputs": [
        {
          "output_type": "execute_result",
          "data": {
            "text/plain": [
              "array([120500.  , 121002.08, 121506.26, 122012.53, 122520.92, 123031.42,\n",
              "       123544.06, 124058.82, 124575.73, 125094.8 , 125616.03, 126139.43,\n",
              "       126665.01, 127192.78, 127722.75, 128254.93, 128789.32, 129325.95,\n",
              "       129864.8 , 130405.91, 130949.26, 131494.89, 132042.78, 132592.96,\n",
              "       133145.43, 133700.2 , 134257.29, 134816.69, 135378.43, 135942.51,\n",
              "       136508.93, 137077.72, 137648.88, 138222.41, 138798.34, 139376.67,\n",
              "       139957.4 , 140540.56, 141126.15, 141714.17, 142304.65, 142897.58,\n",
              "       143492.99, 144090.88, 144691.26, 145294.14, 145899.53, 146507.44,\n",
              "       147117.89, 147730.88, 148346.43, 148964.54, 149585.22, 150208.49,\n",
              "       150834.36, 151462.84, 152093.93, 152727.66, 153364.02, 154003.04])"
            ]
          },
          "metadata": {},
          "execution_count": 22
        }
      ]
    },
    {
      "cell_type": "code",
      "source": [
        "# the difference in the monthly price increase\n",
        "monthly_diff_increase = np.diff(monthly_price_increase)\n",
        "monthly_diff_increase"
      ],
      "metadata": {
        "colab": {
          "base_uri": "https://localhost:8080/"
        },
        "id": "sPdkIQLibZD-",
        "outputId": "2caf6ded-dd6d-4437-d932-5b7d0fe0bbf4"
      },
      "execution_count": 23,
      "outputs": [
        {
          "output_type": "execute_result",
          "data": {
            "text/plain": [
              "array([502.08, 504.18, 506.27, 508.39, 510.5 , 512.64, 514.76, 516.91,\n",
              "       519.07, 521.23, 523.4 , 525.58, 527.77, 529.97, 532.18, 534.39,\n",
              "       536.63, 538.85, 541.11, 543.35, 545.63, 547.89, 550.18, 552.47,\n",
              "       554.77, 557.09, 559.4 , 561.74, 564.08, 566.42, 568.79, 571.16,\n",
              "       573.53, 575.93, 578.33, 580.73, 583.16, 585.59, 588.02, 590.48,\n",
              "       592.93, 595.41, 597.89, 600.38, 602.88, 605.39, 607.91, 610.45,\n",
              "       612.99, 615.55, 618.11, 620.68, 623.27, 625.87, 628.48, 631.09,\n",
              "       633.73, 636.36, 639.02])"
            ]
          },
          "metadata": {},
          "execution_count": 23
        }
      ]
    },
    {
      "cell_type": "markdown",
      "source": [
        "**How much do you have to pay to the bank each month to raise money for a flat within 5 years with the presented offer?**"
      ],
      "metadata": {
        "id": "5DHccGvUbjzY"
      }
    },
    {
      "cell_type": "code",
      "source": [
        "freq = 12\n",
        "rate = 0.12\n",
        "years = 5\n",
        "pv = 120000\n",
        "pmt = 0\n",
        "\n",
        "rate /= freq # rate conversion to a monthly period\n",
        "nper = years * freq # number of all periods\n",
        "periods = np.arange(1, nper+1, dtype=int)"
      ],
      "metadata": {
        "id": "QkLqbxjUbdAZ"
      },
      "execution_count": 24,
      "outputs": []
    },
    {
      "cell_type": "code",
      "source": [
        "# Calculate the monthly payment to the bank for the apartment\n",
        "monthly_payment = - np.around(npf.pmt(rate, nper, pv),2)\n",
        "monthly_payment\n",
        "print(f\"Monthly payments to the bank deposit for the apartment is: {monthly_payment}.\")"
      ],
      "metadata": {
        "colab": {
          "base_uri": "https://localhost:8080/"
        },
        "id": "IHujii11bvlb",
        "outputId": "a3b4ac80-8ea6-44d4-8620-752a3e3788ed"
      },
      "execution_count": 25,
      "outputs": [
        {
          "output_type": "stream",
          "name": "stdout",
          "text": [
            "Monthly payments to the bank deposit for the apartment is: 2669.33.\n"
          ]
        }
      ]
    },
    {
      "cell_type": "code",
      "source": [
        "# Calculate deposite savings\n",
        "deposit_savings = - np.around(npf.fv(rate, periods, monthly_payment, 0),2)\n",
        "deposit_savings"
      ],
      "metadata": {
        "colab": {
          "base_uri": "https://localhost:8080/"
        },
        "id": "Bg7gGuOQcSY-",
        "outputId": "0ead53d3-d569-4be9-ed44-fd5e13b49a2b"
      },
      "execution_count": 26,
      "outputs": [
        {
          "output_type": "execute_result",
          "data": {
            "text/plain": [
              "array([  2669.33,   5365.35,   8088.34,  10838.55,  13616.27,  16421.76,\n",
              "        19255.31,  22117.19,  25007.69,  27927.1 ,  30875.7 ,  33853.79,\n",
              "        36861.65,  39899.6 ,  42967.93,  46066.94,  49196.93,  52358.23,\n",
              "        55551.15,  58775.99,  62033.08,  65322.74,  68645.3 ,  72001.08,\n",
              "        75390.42,  78813.65,  82271.12,  85763.16,  89290.12,  92852.35,\n",
              "        96450.21, 100084.04, 103754.21, 107461.08, 111205.02, 114986.4 ,\n",
              "       118805.6 , 122662.98, 126558.94, 130493.86, 134468.13, 138482.14,\n",
              "       142536.29, 146630.99, 150766.63, 154943.62, 159162.39, 163423.34,\n",
              "       167726.91, 172073.51, 176463.57, 180897.54, 185375.84, 189898.93,\n",
              "       194467.25, 199081.25, 203741.39, 208448.14, 213201.95, 218003.3 ])"
            ]
          },
          "metadata": {},
          "execution_count": 26
        }
      ]
    },
    {
      "cell_type": "code",
      "source": [
        "# the difference in deposit savings\n",
        "diff_deposit_savings = np.diff(deposit_savings)\n",
        "diff_deposit_savings"
      ],
      "metadata": {
        "colab": {
          "base_uri": "https://localhost:8080/"
        },
        "id": "WVVe7_uLcbnP",
        "outputId": "de1c80d8-9666-424c-edcf-db2eade8e07c"
      },
      "execution_count": 27,
      "outputs": [
        {
          "output_type": "execute_result",
          "data": {
            "text/plain": [
              "array([2696.02, 2722.99, 2750.21, 2777.72, 2805.49, 2833.55, 2861.88,\n",
              "       2890.5 , 2919.41, 2948.6 , 2978.09, 3007.86, 3037.95, 3068.33,\n",
              "       3099.01, 3129.99, 3161.3 , 3192.92, 3224.84, 3257.09, 3289.66,\n",
              "       3322.56, 3355.78, 3389.34, 3423.23, 3457.47, 3492.04, 3526.96,\n",
              "       3562.23, 3597.86, 3633.83, 3670.17, 3706.87, 3743.94, 3781.38,\n",
              "       3819.2 , 3857.38, 3895.96, 3934.92, 3974.27, 4014.01, 4054.15,\n",
              "       4094.7 , 4135.64, 4176.99, 4218.77, 4260.95, 4303.57, 4346.6 ,\n",
              "       4390.06, 4433.97, 4478.3 , 4523.09, 4568.32, 4614.  , 4660.14,\n",
              "       4706.75, 4753.81, 4801.35])"
            ]
          },
          "metadata": {},
          "execution_count": 27
        }
      ]
    },
    {
      "cell_type": "code",
      "source": [
        "plt.plot(monthly_diff_increase.cumsum(), label='increse in the price for the apartment')\n",
        "plt.plot(diff_deposit_savings.cumsum(), label='payments to the bank for the apartment')\n",
        "plt.legend()\n",
        "plt.xlabel('Number of months')\n",
        "plt.ylabel('Payments')"
      ],
      "metadata": {
        "colab": {
          "base_uri": "https://localhost:8080/",
          "height": 466
        },
        "id": "n9SPbbY9dNT8",
        "outputId": "15e4519e-7b8e-4229-818b-7e4171be0735"
      },
      "execution_count": 28,
      "outputs": [
        {
          "output_type": "execute_result",
          "data": {
            "text/plain": [
              "Text(0, 0.5, 'Payments')"
            ]
          },
          "metadata": {},
          "execution_count": 28
        },
        {
          "output_type": "display_data",
          "data": {
            "text/plain": [
              "<Figure size 640x480 with 1 Axes>"
            ],
            "image/png": "[encoded data removed]"
          },
          "metadata": {}
        }
      ]
    }
  ]
}
