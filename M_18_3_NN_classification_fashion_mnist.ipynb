{
  "cells": [
    {
      "cell_type": "markdown",
      "metadata": {
        "id": "view-in-github",
        "colab_type": "text"
      },
      "source": [
        "<a href=\"https://colab.research.google.com/github/ZKisielewska/learning-git-task/blob/master/M_18_3_NN_classification_fashion_mnist.ipynb\" target=\"_parent\"><img src=\"https://colab.research.google.com/assets/colab-badge.svg\" alt=\"Open In Colab\"/></a>"
      ]
    },
    {
      "cell_type": "markdown",
      "metadata": {
        "id": "RPlmvx_o5uqF"
      },
      "source": [
        "# **Module 18.3 Naural Network Classification: Fashion-MNIST**\n",
        "\n",
        "As an example, we will use one of the iconic datasets - **Fashion MNIST**. This is a collection of images showing different outfits - sandals, t-shirts, pants, etc.. Fashion MNIST dataset contains 70,000 grayscale images in 10 categories.\n",
        "\n",
        "1. The first step will be to implement a neural network on the previously used **Fashion-MNIST** set so as to obtain a result on the test data of **accuracy > 0.94** (or as close as possible), using the following division:\n",
        "\n",
        "- **X_train, X_test, y_train, y_test = \\\n",
        "     train_test_split(images, labels, test_size=0.1, random_state=10, stratify=labels)**\n",
        "\n",
        "2. The second step will be to **save and deliver the model** and write an interface that accepts the input value and returns the value predicted by our model along with the drawn input image (so that it can be visually verified if it works).\n",
        "\n",
        "Saving models is described on the TensorFlow [website](https://www.tensorflow.org/tutorials/keras/save_and_load).\n",
        "\n",
        "3. The third step will be to **raise our result to about 0.97** by using **augmentation** techniques, i.e. creating new data on the basis of existing data.\n",
        "\n",
        "This will be relatively difficult as we have little training data, so you should do a little \"research\" in search of information on how to generate such data.\n",
        "\n",
        "We especially recommend:\n",
        "\n",
        "- [albumentation library](https://github.com/albumentations-team/albumentations)\n",
        "- [Open resume library](https://docs.opencv.org/master/d6/d00/tutorial_py_root.html)"
      ]
    },
    {
      "cell_type": "code",
      "execution_count": 1,
      "metadata": {
        "colab": {
          "base_uri": "https://localhost:8080/"
        },
        "id": "3nTB8QGB5rho",
        "outputId": "e7768b23-ffb4-44d8-e92a-41a5cc34f8f9"
      },
      "outputs": [
        {
          "output_type": "stream",
          "name": "stdout",
          "text": [
            "2.12.0\n"
          ]
        }
      ],
      "source": [
        "import warnings\n",
        "from absl.logging import warning\n",
        "import os\n",
        "\n",
        "# TensorFlow and tf.keras\n",
        "import tensorflow as tf\n",
        "\n",
        "# Helper libraries\n",
        "import numpy as np\n",
        "import pandas as pd\n",
        "import matplotlib.pyplot as plt\n",
        "import seaborn as sns\n",
        "from sklearn.metrics import f1_score, confusion_matrix\n",
        "\n",
        "import warnings\n",
        "warnings.filterwarnings('ignore')\n",
        "\n",
        "print(tf.__version__)"
      ]
    },
    {
      "cell_type": "markdown",
      "metadata": {
        "id": "Oh9LbpEE70r1"
      },
      "source": [
        "## Import the Fashion MNIST dataset"
      ]
    },
    {
      "cell_type": "code",
      "execution_count": 2,
      "metadata": {
        "id": "08EAlv7874-d",
        "colab": {
          "base_uri": "https://localhost:8080/"
        },
        "outputId": "1577611d-1bd7-4252-f5a5-7993ab3f489b"
      },
      "outputs": [
        {
          "output_type": "stream",
          "name": "stdout",
          "text": [
            "Downloading data from https://storage.googleapis.com/tensorflow/tf-keras-datasets/train-labels-idx1-ubyte.gz\n",
            "29515/29515 [==============================] - 0s 0us/step\n",
            "Downloading data from https://storage.googleapis.com/tensorflow/tf-keras-datasets/train-images-idx3-ubyte.gz\n",
            "26421880/26421880 [==============================] - 1s 0us/step\n",
            "Downloading data from https://storage.googleapis.com/tensorflow/tf-keras-datasets/t10k-labels-idx1-ubyte.gz\n",
            "5148/5148 [==============================] - 0s 0us/step\n",
            "Downloading data from https://storage.googleapis.com/tensorflow/tf-keras-datasets/t10k-images-idx3-ubyte.gz\n",
            "4422102/4422102 [==============================] - 0s 0us/step\n"
          ]
        }
      ],
      "source": [
        "# load the dataset\n",
        "train, test = tf.keras.datasets.fashion_mnist.load_data()\n",
        "\n",
        "# extraction of images and labels\n",
        "images, labels = train"
      ]
    },
    {
      "cell_type": "markdown",
      "metadata": {
        "id": "yKQYo_CZ93wc"
      },
      "source": [
        "The images are 28x28 NumPy arrays, with pixel values ranging from 0 to 255. The labels are an array of integers, ranging from 0 to 9. These correspond to the class of clothing the image represents:\n",
        "\n",
        "```\n",
        "Label\tClass\n",
        "0\t T-shirt/top\n",
        "1\t Trouser\n",
        "2\t Pullover\n",
        "3\t Dress\n",
        "4\t Coat\n",
        "5\t Sandal\n",
        "6\t Shirt\n",
        "7\t Sneaker\n",
        "8\t Bag\n",
        "9\t Ankle boot\n",
        "```\n",
        "Each image is mapped to a single label. Since the class names are not included with the dataset, store them here to use later when plotting the images:"
      ]
    },
    {
      "cell_type": "code",
      "execution_count": 3,
      "metadata": {
        "id": "_SRA9LYX-inq"
      },
      "outputs": [],
      "source": [
        "class_names = ['T-shirt/top', 'Trouser', 'Pullover', 'Dress', 'Coat',\n",
        "               'Sandal', 'Shirt', 'Sneaker', 'Bag', 'Ankle boot']"
      ]
    },
    {
      "cell_type": "markdown",
      "metadata": {
        "id": "aCoFHBf3_sOt"
      },
      "source": [
        "## Preprocess the data\n",
        "\n",
        "The data must be preprocessed before training the network. Let's start by normalizing it. Next, we need to convert our data into a format that Tensorflow understands, Dataset. We will create a dataset and using the available methods we will set the **batch_size** to 32, and we will **shuffle** our dataset."
      ]
    },
    {
      "cell_type": "code",
      "execution_count": 4,
      "metadata": {
        "id": "yUyX692SFVF6"
      },
      "outputs": [],
      "source": [
        "# pixel value normalization (max. value\n",
        "# is 255.0, which is to normalize our data,\n",
        "# we need to divide each pixel by the max value)\n",
        "images = images/255.0\n",
        "\n",
        "# save data as int\n",
        "labels = labels.astype(np.int32)"
      ]
    },
    {
      "cell_type": "code",
      "execution_count": 5,
      "metadata": {
        "id": "MFfQGYrsFvlb"
      },
      "outputs": [],
      "source": [
        "from sklearn.model_selection import train_test_split\n",
        "\n",
        "# split the data\n",
        "X_train, X_test, y_train, y_test = \\\n",
        "    train_test_split(images, labels, test_size=0.1, random_state=10, stratify=labels)\n",
        "\n",
        "# create a Dataset from the list\n",
        "train_ds = tf.data.Dataset.from_tensor_slices((X_train, y_train))\n",
        "\n",
        "# setting batch_size to 32 and reshuffling based on 1000 samples\n",
        "train_ds = train_ds.shuffle(1000).batch(32)"
      ]
    },
    {
      "cell_type": "markdown",
      "metadata": {
        "id": "Sd87wWOzIUXT"
      },
      "source": [
        "Let's display the first 16 images and display the class name below each image."
      ]
    },
    {
      "cell_type": "code",
      "execution_count": 6,
      "metadata": {
        "colab": {
          "base_uri": "https://localhost:8080/",
          "height": 826
        },
        "id": "m5wJCM7VIaSW",
        "outputId": "e417a6b3-9686-4bfa-a55c-5553e7e59e99"
      },
      "outputs": [
        {
          "output_type": "display_data",
          "data": {
            "text/plain": [
              "<Figure size 1000x1000 with 16 Axes>"
            ],
            "image/png": "[encoded data removed]"
          },
          "metadata": {}
        }
      ],
      "source": [
        "plt.figure(figsize=(10, 10))\n",
        "for i in range(16):\n",
        "  plt.subplot(4,4, i+1)\n",
        "  plt.xticks([])\n",
        "  plt.yticks([])\n",
        "  plt.grid(False)\n",
        "  plt.imshow(images[i], cmap=plt.cm.binary)\n",
        "  plt.xlabel(class_names[labels[i]])\n",
        "plt.show()"
      ]
    },
    {
      "cell_type": "markdown",
      "metadata": {
        "id": "2cIfs6dUKvkh"
      },
      "source": [
        "## Build the model\n",
        "Building the neural network model requires configuring the **layers** of the model, then **compiling** the model."
      ]
    },
    {
      "cell_type": "markdown",
      "metadata": {
        "id": "KSCQXzKaLGu0"
      },
      "source": [
        "### Set up the layers\n",
        "\n",
        "The basic building block of a neural network is the [*layer*](https://www.tensorflow.org/api_docs/python/tf/keras/layers). Layers extract representations from the data fed into them.\n",
        "\n",
        "- At the input, we need to **flatten** the data. This transforms the format of the images from a two-dimensional array (of 28 by 28 pixels) to a one-dimensional array (of 28 * 28 = 784 pixels). This layer has no parameters to learn; it only reformats the data.\n",
        "\n",
        "- After the pixels are flattened, the network consists of a sequence of ```tf.keras.layers.Dense```tf.keras.layers. **Dense layers**. These are densely connected, or fully connected, neural layers.\n",
        "\n",
        "- Select the appropriate **activation function** for subsequent layers.\n",
        "\n",
        "- The number of **hidden layer** neurons should decrease closer to the output of our model (usually this approach works best, e.g. 300, 200, 100, 5).\n",
        "\n",
        "- The **output** should have as many neurons as there are **classes in our set**."
      ]
    },
    {
      "cell_type": "markdown",
      "metadata": {
        "id": "i7WtGdFdRdBA"
      },
      "source": [
        "### Compile the model\n",
        "\n",
        "Before the model is ready for training, it needs a few more settings. These are added during the model's [*compile*](https://www.tensorflow.org/api_docs/python/tf/keras/Model#compile) step:\n",
        "\n",
        "* [*Loss function*](https://www.tensorflow.org/api_docs/python/tf/keras/losses) — This measures how accurate the model is during training. You want to minimize this function to \"steer\" the model in the right direction.\n",
        "\n",
        "* [*Optimizer*](https://www.tensorflow.org/api_docs/python/tf/keras/optimizers) — This is how the model is updated based on the data it sees and its loss function.\n",
        "\n",
        "* [*Metrics*](https://www.tensorflow.org/api_docs/python/tf/keras/metrics) — Used to monitor the training and testing steps. The following example uses *accuracy*, the fraction of the images that are correctly classified.\n",
        "\n",
        "At this point, it is worth noting that all operations available on models are described in the [Model](https://www.tensorflow.org/api_docs/python/tf/keras/Model|) class, because no matter what method we use to create our network, each of them inherits from the **Model** class.\n",
        "\n",
        "We will try to compile our model using:\n",
        "\n",
        "- '**adam**' optimizer,\n",
        "- '**sparse_categorical_crossentropy**' loss function,\n",
        "- '**accuracy**' metric."
      ]
    },
    {
      "cell_type": "code",
      "execution_count": 7,
      "metadata": {
        "colab": {
          "base_uri": "https://localhost:8080/"
        },
        "id": "V5JSrxsxSIEP",
        "outputId": "d6e66d28-d58d-4737-a63b-34db3ab396c6"
      },
      "outputs": [
        {
          "output_type": "stream",
          "name": "stdout",
          "text": [
            "Model: \"sequential\"\n",
            "_________________________________________________________________\n",
            " Layer (type)                Output Shape              Param #   \n",
            "=================================================================\n",
            " flatten (Flatten)           (None, 784)               0         \n",
            "                                                                 \n",
            " input_layer (Dense)         (None, 300)               235500    \n",
            "                                                                 \n",
            " hidden_layer_1 (Dense)      (None, 200)               60200     \n",
            "                                                                 \n",
            " hidden_layer_2 (Dense)      (None, 100)               20100     \n",
            "                                                                 \n",
            " output_layer (Dense)        (None, 10)                1010      \n",
            "                                                                 \n",
            "=================================================================\n",
            "Total params: 316,810\n",
            "Trainable params: 316,810\n",
            "Non-trainable params: 0\n",
            "_________________________________________________________________\n"
          ]
        }
      ],
      "source": [
        "# function creating the model\n",
        "def create_model():\n",
        "  model = tf.keras.Sequential([\n",
        "      tf.keras.layers.Flatten(input_shape=(28, 28)), # flattening an image to a one-dimensional vector\n",
        "      tf.keras.layers.Dense(300, activation='relu', name='input_layer'),\n",
        "      tf.keras.layers.Dense(200, activation='relu', name='hidden_layer_1'),\n",
        "      tf.keras.layers.Dense(100, activation='relu', name='hidden_layer_2'),\n",
        "      tf.keras.layers.Dense(10, activation='softmax', name='output_layer') # the last layer has as many neurons as there are classes\n",
        "  ])\n",
        "\n",
        "  model.compile(optimizer='adam',\n",
        "                loss='sparse_categorical_crossentropy',\n",
        "                metrics=['accuracy'])\n",
        "\n",
        "  return model\n",
        "\n",
        "# create a basic model instance\n",
        "model = create_model()\n",
        "\n",
        "# display the model's architecture\n",
        "model.summary()"
      ]
    },
    {
      "cell_type": "markdown",
      "metadata": {
        "id": "sNXTbV1lX_iJ"
      },
      "source": [
        "### Train the model Save checkpoints during training\n",
        "\n",
        "Model training is done using the [fit](https://www.tensorflow.org/api_docs/python/tf/keras/Model#fit) method of the Model class.\n",
        "\n",
        "It accepts many different parameters, but we are only interested in a few of them:\n",
        "\n",
        "- **x** – input data, in our case images of clothes,\n",
        "- **y** – labels for our dataset.\n",
        "\n",
        "**Attention:** Having prepared the dataset as we did before, instead of explicitly specifying **x**, **y**, we pass the entire dataset at once. We do this because it will return a pair (**data, label)** every iteration.\n",
        "\n",
        "- **epochs** - for how many epochs should we train our model,\n",
        "- **validation_data** – set if we want to provide data for validating our model after each epoch. This parameter is often used if we have validation data.\n",
        "\n",
        "**Attention:** Instead of **validation_data**, you can use the **validation_split** parameter, which tells us what percentage of training data should be used for validation every epoch.\n",
        "\n",
        "With this information, let's train our model on the previously created set using:\n",
        "\n",
        "- 10 epochs\n",
        "- verbose=1\n",
        "- validation on 10% of the training set"
      ]
    },
    {
      "cell_type": "code",
      "execution_count": 12,
      "metadata": {
        "colab": {
          "base_uri": "https://localhost:8080/"
        },
        "id": "voFIaJSBZ26q",
        "outputId": "743fdc91-aa30-4fd0-e186-1779d9b3706b"
      },
      "outputs": [
        {
          "output_type": "stream",
          "name": "stdout",
          "text": [
            "Epoch 1/30\n",
            "1686/1688 [============================>.] - ETA: 0s - loss: 0.1605 - accuracy: 0.9379"
          ]
        },
        {
          "output_type": "stream",
          "name": "stderr",
          "text": [
            "WARNING:tensorflow:Can save best model only with val_accuracy available, skipping.\n"
          ]
        },
        {
          "output_type": "stream",
          "name": "stdout",
          "text": [
            "\b\b\b\b\b\b\b\b\b\b\b\b\b\b\b\b\b\b\b\b\b\b\b\b\b\b\b\b\b\b\b\b\b\b\b\b\b\b\b\b\b\b\b\b\b\b\b\b\b\b\b\b\b\b\b\b\b\b\b\b\b\b\b\b\b\b\b\b\b\b\b\b\b\b\b\b\b\b\b\b\b\b\b\b\b\b\r1688/1688 [==============================] - 11s 6ms/step - loss: 0.1605 - accuracy: 0.9379\n",
            "Epoch 2/30\n",
            "1684/1688 [============================>.] - ETA: 0s - loss: 0.1547 - accuracy: 0.9401"
          ]
        },
        {
          "output_type": "stream",
          "name": "stderr",
          "text": [
            "WARNING:tensorflow:Can save best model only with val_accuracy available, skipping.\n"
          ]
        },
        {
          "output_type": "stream",
          "name": "stdout",
          "text": [
            "\b\b\b\b\b\b\b\b\b\b\b\b\b\b\b\b\b\b\b\b\b\b\b\b\b\b\b\b\b\b\b\b\b\b\b\b\b\b\b\b\b\b\b\b\b\b\b\b\b\b\b\b\b\b\b\b\b\b\b\b\b\b\b\b\b\b\b\b\b\b\b\b\b\b\b\b\b\b\b\b\b\b\b\b\b\b\r1688/1688 [==============================] - 10s 6ms/step - loss: 0.1548 - accuracy: 0.9401\n",
            "Epoch 3/30\n",
            "1684/1688 [============================>.] - ETA: 0s - loss: 0.1472 - accuracy: 0.9424"
          ]
        },
        {
          "output_type": "stream",
          "name": "stderr",
          "text": [
            "WARNING:tensorflow:Can save best model only with val_accuracy available, skipping.\n"
          ]
        },
        {
          "output_type": "stream",
          "name": "stdout",
          "text": [
            "\b\b\b\b\b\b\b\b\b\b\b\b\b\b\b\b\b\b\b\b\b\b\b\b\b\b\b\b\b\b\b\b\b\b\b\b\b\b\b\b\b\b\b\b\b\b\b\b\b\b\b\b\b\b\b\b\b\b\b\b\b\b\b\b\b\b\b\b\b\b\b\b\b\b\b\b\b\b\b\b\b\b\b\b\b\b\r1688/1688 [==============================] - 9s 5ms/step - loss: 0.1472 - accuracy: 0.9424\n",
            "Epoch 4/30\n",
            "1680/1688 [============================>.] - ETA: 0s - loss: 0.1467 - accuracy: 0.9440"
          ]
        },
        {
          "output_type": "stream",
          "name": "stderr",
          "text": [
            "WARNING:tensorflow:Can save best model only with val_accuracy available, skipping.\n"
          ]
        },
        {
          "output_type": "stream",
          "name": "stdout",
          "text": [
            "\b\b\b\b\b\b\b\b\b\b\b\b\b\b\b\b\b\b\b\b\b\b\b\b\b\b\b\b\b\b\b\b\b\b\b\b\b\b\b\b\b\b\b\b\b\b\b\b\b\b\b\b\b\b\b\b\b\b\b\b\b\b\b\b\b\b\b\b\b\b\b\b\b\b\b\b\b\b\b\b\b\b\b\b\b\b\r1688/1688 [==============================] - 10s 6ms/step - loss: 0.1466 - accuracy: 0.9441\n",
            "Epoch 5/30\n",
            "1686/1688 [============================>.] - ETA: 0s - loss: 0.1463 - accuracy: 0.9447"
          ]
        },
        {
          "output_type": "stream",
          "name": "stderr",
          "text": [
            "WARNING:tensorflow:Can save best model only with val_accuracy available, skipping.\n"
          ]
        },
        {
          "output_type": "stream",
          "name": "stdout",
          "text": [
            "\b\b\b\b\b\b\b\b\b\b\b\b\b\b\b\b\b\b\b\b\b\b\b\b\b\b\b\b\b\b\b\b\b\b\b\b\b\b\b\b\b\b\b\b\b\b\b\b\b\b\b\b\b\b\b\b\b\b\b\b\b\b\b\b\b\b\b\b\b\b\b\b\b\b\b\b\b\b\b\b\b\b\b\b\b\b\r1688/1688 [==============================] - 10s 6ms/step - loss: 0.1464 - accuracy: 0.9447\n",
            "Epoch 6/30\n",
            "1682/1688 [============================>.] - ETA: 0s - loss: 0.1361 - accuracy: 0.9476"
          ]
        },
        {
          "output_type": "stream",
          "name": "stderr",
          "text": [
            "WARNING:tensorflow:Can save best model only with val_accuracy available, skipping.\n"
          ]
        },
        {
          "output_type": "stream",
          "name": "stdout",
          "text": [
            "\b\b\b\b\b\b\b\b\b\b\b\b\b\b\b\b\b\b\b\b\b\b\b\b\b\b\b\b\b\b\b\b\b\b\b\b\b\b\b\b\b\b\b\b\b\b\b\b\b\b\b\b\b\b\b\b\b\b\b\b\b\b\b\b\b\b\b\b\b\b\b\b\b\b\b\b\b\b\b\b\b\b\b\b\b\b\r1688/1688 [==============================] - 10s 6ms/step - loss: 0.1359 - accuracy: 0.9476\n",
            "Epoch 7/30\n",
            "1684/1688 [============================>.] - ETA: 0s - loss: 0.1396 - accuracy: 0.9468"
          ]
        },
        {
          "output_type": "stream",
          "name": "stderr",
          "text": [
            "WARNING:tensorflow:Can save best model only with val_accuracy available, skipping.\n"
          ]
        },
        {
          "output_type": "stream",
          "name": "stdout",
          "text": [
            "\b\b\b\b\b\b\b\b\b\b\b\b\b\b\b\b\b\b\b\b\b\b\b\b\b\b\b\b\b\b\b\b\b\b\b\b\b\b\b\b\b\b\b\b\b\b\b\b\b\b\b\b\b\b\b\b\b\b\b\b\b\b\b\b\b\b\b\b\b\b\b\b\b\b\b\b\b\b\b\b\b\b\b\b\b\b\r1688/1688 [==============================] - 9s 6ms/step - loss: 0.1395 - accuracy: 0.9469\n",
            "Epoch 8/30\n",
            "1686/1688 [============================>.] - ETA: 0s - loss: 0.1283 - accuracy: 0.9500"
          ]
        },
        {
          "output_type": "stream",
          "name": "stderr",
          "text": [
            "WARNING:tensorflow:Can save best model only with val_accuracy available, skipping.\n"
          ]
        },
        {
          "output_type": "stream",
          "name": "stdout",
          "text": [
            "\b\b\b\b\b\b\b\b\b\b\b\b\b\b\b\b\b\b\b\b\b\b\b\b\b\b\b\b\b\b\b\b\b\b\b\b\b\b\b\b\b\b\b\b\b\b\b\b\b\b\b\b\b\b\b\b\b\b\b\b\b\b\b\b\b\b\b\b\b\b\b\b\b\b\b\b\b\b\b\b\b\b\b\b\b\b\r1688/1688 [==============================] - 9s 5ms/step - loss: 0.1285 - accuracy: 0.9499\n",
            "Epoch 9/30\n",
            "1681/1688 [============================>.] - ETA: 0s - loss: 0.1354 - accuracy: 0.9486"
          ]
        },
        {
          "output_type": "stream",
          "name": "stderr",
          "text": [
            "WARNING:tensorflow:Can save best model only with val_accuracy available, skipping.\n"
          ]
        },
        {
          "output_type": "stream",
          "name": "stdout",
          "text": [
            "\b\b\b\b\b\b\b\b\b\b\b\b\b\b\b\b\b\b\b\b\b\b\b\b\b\b\b\b\b\b\b\b\b\b\b\b\b\b\b\b\b\b\b\b\b\b\b\b\b\b\b\b\b\b\b\b\b\b\b\b\b\b\b\b\b\b\b\b\b\b\b\b\b\b\b\b\b\b\b\b\b\b\b\b\b\b\r1688/1688 [==============================] - 10s 6ms/step - loss: 0.1354 - accuracy: 0.9486\n",
            "Epoch 10/30\n",
            "1687/1688 [============================>.] - ETA: 0s - loss: 0.1266 - accuracy: 0.9513"
          ]
        },
        {
          "output_type": "stream",
          "name": "stderr",
          "text": [
            "WARNING:tensorflow:Can save best model only with val_accuracy available, skipping.\n"
          ]
        },
        {
          "output_type": "stream",
          "name": "stdout",
          "text": [
            "\b\b\b\b\b\b\b\b\b\b\b\b\b\b\b\b\b\b\b\b\b\b\b\b\b\b\b\b\b\b\b\b\b\b\b\b\b\b\b\b\b\b\b\b\b\b\b\b\b\b\b\b\b\b\b\b\b\b\b\b\b\b\b\b\b\b\b\b\b\b\b\b\b\b\b\b\b\b\b\b\b\b\b\b\b\b\r1688/1688 [==============================] - 10s 6ms/step - loss: 0.1266 - accuracy: 0.9513\n",
            "Epoch 11/30\n",
            "1687/1688 [============================>.] - ETA: 0s - loss: 0.1253 - accuracy: 0.9517"
          ]
        },
        {
          "output_type": "stream",
          "name": "stderr",
          "text": [
            "WARNING:tensorflow:Can save best model only with val_accuracy available, skipping.\n"
          ]
        },
        {
          "output_type": "stream",
          "name": "stdout",
          "text": [
            "\b\b\b\b\b\b\b\b\b\b\b\b\b\b\b\b\b\b\b\b\b\b\b\b\b\b\b\b\b\b\b\b\b\b\b\b\b\b\b\b\b\b\b\b\b\b\b\b\b\b\b\b\b\b\b\b\b\b\b\b\b\b\b\b\b\b\b\b\b\b\b\b\b\b\b\b\b\b\b\b\b\b\b\b\b\b\r1688/1688 [==============================] - 10s 6ms/step - loss: 0.1253 - accuracy: 0.9517\n",
            "Epoch 12/30\n",
            "1687/1688 [============================>.] - ETA: 0s - loss: 0.1209 - accuracy: 0.9535"
          ]
        },
        {
          "output_type": "stream",
          "name": "stderr",
          "text": [
            "WARNING:tensorflow:Can save best model only with val_accuracy available, skipping.\n"
          ]
        },
        {
          "output_type": "stream",
          "name": "stdout",
          "text": [
            "\b\b\b\b\b\b\b\b\b\b\b\b\b\b\b\b\b\b\b\b\b\b\b\b\b\b\b\b\b\b\b\b\b\b\b\b\b\b\b\b\b\b\b\b\b\b\b\b\b\b\b\b\b\b\b\b\b\b\b\b\b\b\b\b\b\b\b\b\b\b\b\b\b\b\b\b\b\b\b\b\b\b\b\b\b\b\r1688/1688 [==============================] - 10s 6ms/step - loss: 0.1209 - accuracy: 0.9535\n",
            "Epoch 13/30\n",
            "1686/1688 [============================>.] - ETA: 0s - loss: 0.1198 - accuracy: 0.9543"
          ]
        },
        {
          "output_type": "stream",
          "name": "stderr",
          "text": [
            "WARNING:tensorflow:Can save best model only with val_accuracy available, skipping.\n"
          ]
        },
        {
          "output_type": "stream",
          "name": "stdout",
          "text": [
            "\b\b\b\b\b\b\b\b\b\b\b\b\b\b\b\b\b\b\b\b\b\b\b\b\b\b\b\b\b\b\b\b\b\b\b\b\b\b\b\b\b\b\b\b\b\b\b\b\b\b\b\b\b\b\b\b\b\b\b\b\b\b\b\b\b\b\b\b\b\b\b\b\b\b\b\b\b\b\b\b\b\b\b\b\b\b\r1688/1688 [==============================] - 10s 6ms/step - loss: 0.1198 - accuracy: 0.9543\n",
            "Epoch 14/30\n",
            "1686/1688 [============================>.] - ETA: 0s - loss: 0.1168 - accuracy: 0.9546"
          ]
        },
        {
          "output_type": "stream",
          "name": "stderr",
          "text": [
            "WARNING:tensorflow:Can save best model only with val_accuracy available, skipping.\n"
          ]
        },
        {
          "output_type": "stream",
          "name": "stdout",
          "text": [
            "\b\b\b\b\b\b\b\b\b\b\b\b\b\b\b\b\b\b\b\b\b\b\b\b\b\b\b\b\b\b\b\b\b\b\b\b\b\b\b\b\b\b\b\b\b\b\b\b\b\b\b\b\b\b\b\b\b\b\b\b\b\b\b\b\b\b\b\b\b\b\b\b\b\b\b\b\b\b\b\b\b\b\b\b\b\b\r1688/1688 [==============================] - 10s 6ms/step - loss: 0.1168 - accuracy: 0.9546\n",
            "Epoch 15/30\n",
            "1687/1688 [============================>.] - ETA: 0s - loss: 0.1184 - accuracy: 0.9554"
          ]
        },
        {
          "output_type": "stream",
          "name": "stderr",
          "text": [
            "WARNING:tensorflow:Can save best model only with val_accuracy available, skipping.\n"
          ]
        },
        {
          "output_type": "stream",
          "name": "stdout",
          "text": [
            "\b\b\b\b\b\b\b\b\b\b\b\b\b\b\b\b\b\b\b\b\b\b\b\b\b\b\b\b\b\b\b\b\b\b\b\b\b\b\b\b\b\b\b\b\b\b\b\b\b\b\b\b\b\b\b\b\b\b\b\b\b\b\b\b\b\b\b\b\b\b\b\b\b\b\b\b\b\b\b\b\b\b\b\b\b\b\r1688/1688 [==============================] - 10s 6ms/step - loss: 0.1184 - accuracy: 0.9554\n",
            "Epoch 16/30\n",
            "1682/1688 [============================>.] - ETA: 0s - loss: 0.1119 - accuracy: 0.9566"
          ]
        },
        {
          "output_type": "stream",
          "name": "stderr",
          "text": [
            "WARNING:tensorflow:Can save best model only with val_accuracy available, skipping.\n"
          ]
        },
        {
          "output_type": "stream",
          "name": "stdout",
          "text": [
            "\b\b\b\b\b\b\b\b\b\b\b\b\b\b\b\b\b\b\b\b\b\b\b\b\b\b\b\b\b\b\b\b\b\b\b\b\b\b\b\b\b\b\b\b\b\b\b\b\b\b\b\b\b\b\b\b\b\b\b\b\b\b\b\b\b\b\b\b\b\b\b\b\b\b\b\b\b\b\b\b\b\b\b\b\b\b\r1688/1688 [==============================] - 10s 6ms/step - loss: 0.1117 - accuracy: 0.9567\n",
            "Epoch 17/30\n",
            "1686/1688 [============================>.] - ETA: 0s - loss: 0.1096 - accuracy: 0.9578"
          ]
        },
        {
          "output_type": "stream",
          "name": "stderr",
          "text": [
            "WARNING:tensorflow:Can save best model only with val_accuracy available, skipping.\n"
          ]
        },
        {
          "output_type": "stream",
          "name": "stdout",
          "text": [
            "\b\b\b\b\b\b\b\b\b\b\b\b\b\b\b\b\b\b\b\b\b\b\b\b\b\b\b\b\b\b\b\b\b\b\b\b\b\b\b\b\b\b\b\b\b\b\b\b\b\b\b\b\b\b\b\b\b\b\b\b\b\b\b\b\b\b\b\b\b\b\b\b\b\b\b\b\b\b\b\b\b\b\b\b\b\b\r1688/1688 [==============================] - 10s 6ms/step - loss: 0.1097 - accuracy: 0.9578\n",
            "Epoch 18/30\n",
            "1681/1688 [============================>.] - ETA: 0s - loss: 0.1066 - accuracy: 0.9588"
          ]
        },
        {
          "output_type": "stream",
          "name": "stderr",
          "text": [
            "WARNING:tensorflow:Can save best model only with val_accuracy available, skipping.\n"
          ]
        },
        {
          "output_type": "stream",
          "name": "stdout",
          "text": [
            "\b\b\b\b\b\b\b\b\b\b\b\b\b\b\b\b\b\b\b\b\b\b\b\b\b\b\b\b\b\b\b\b\b\b\b\b\b\b\b\b\b\b\b\b\b\b\b\b\b\b\b\b\b\b\b\b\b\b\b\b\b\b\b\b\b\b\b\b\b\b\b\b\b\b\b\b\b\b\b\b\b\b\b\b\b\b\r1688/1688 [==============================] - 10s 6ms/step - loss: 0.1064 - accuracy: 0.9589\n",
            "Epoch 19/30\n",
            "1679/1688 [============================>.] - ETA: 0s - loss: 0.1084 - accuracy: 0.9585"
          ]
        },
        {
          "output_type": "stream",
          "name": "stderr",
          "text": [
            "WARNING:tensorflow:Can save best model only with val_accuracy available, skipping.\n"
          ]
        },
        {
          "output_type": "stream",
          "name": "stdout",
          "text": [
            "\b\b\b\b\b\b\b\b\b\b\b\b\b\b\b\b\b\b\b\b\b\b\b\b\b\b\b\b\b\b\b\b\b\b\b\b\b\b\b\b\b\b\b\b\b\b\b\b\b\b\b\b\b\b\b\b\b\b\b\b\b\b\b\b\b\b\b\b\b\b\b\b\b\b\b\b\b\b\b\b\b\b\b\b\b\b\r1688/1688 [==============================] - 9s 5ms/step - loss: 0.1083 - accuracy: 0.9586\n",
            "Epoch 20/30\n",
            "1684/1688 [============================>.] - ETA: 0s - loss: 0.1041 - accuracy: 0.9602"
          ]
        },
        {
          "output_type": "stream",
          "name": "stderr",
          "text": [
            "WARNING:tensorflow:Can save best model only with val_accuracy available, skipping.\n"
          ]
        },
        {
          "output_type": "stream",
          "name": "stdout",
          "text": [
            "\b\b\b\b\b\b\b\b\b\b\b\b\b\b\b\b\b\b\b\b\b\b\b\b\b\b\b\b\b\b\b\b\b\b\b\b\b\b\b\b\b\b\b\b\b\b\b\b\b\b\b\b\b\b\b\b\b\b\b\b\b\b\b\b\b\b\b\b\b\b\b\b\b\b\b\b\b\b\b\b\b\b\b\b\b\b\r1688/1688 [==============================] - 10s 6ms/step - loss: 0.1047 - accuracy: 0.9602\n",
            "Epoch 21/30\n",
            "1683/1688 [============================>.] - ETA: 0s - loss: 0.0989 - accuracy: 0.9621"
          ]
        },
        {
          "output_type": "stream",
          "name": "stderr",
          "text": [
            "WARNING:tensorflow:Can save best model only with val_accuracy available, skipping.\n"
          ]
        },
        {
          "output_type": "stream",
          "name": "stdout",
          "text": [
            "\b\b\b\b\b\b\b\b\b\b\b\b\b\b\b\b\b\b\b\b\b\b\b\b\b\b\b\b\b\b\b\b\b\b\b\b\b\b\b\b\b\b\b\b\b\b\b\b\b\b\b\b\b\b\b\b\b\b\b\b\b\b\b\b\b\b\b\b\b\b\b\b\b\b\b\b\b\b\b\b\b\b\b\b\b\b\r1688/1688 [==============================] - 10s 6ms/step - loss: 0.0988 - accuracy: 0.9621\n",
            "Epoch 22/30\n",
            "1679/1688 [============================>.] - ETA: 0s - loss: 0.0989 - accuracy: 0.9619"
          ]
        },
        {
          "output_type": "stream",
          "name": "stderr",
          "text": [
            "WARNING:tensorflow:Can save best model only with val_accuracy available, skipping.\n"
          ]
        },
        {
          "output_type": "stream",
          "name": "stdout",
          "text": [
            "\b\b\b\b\b\b\b\b\b\b\b\b\b\b\b\b\b\b\b\b\b\b\b\b\b\b\b\b\b\b\b\b\b\b\b\b\b\b\b\b\b\b\b\b\b\b\b\b\b\b\b\b\b\b\b\b\b\b\b\b\b\b\b\b\b\b\b\b\b\b\b\b\b\b\b\b\b\b\b\b\b\b\b\b\b\b\r1688/1688 [==============================] - 10s 6ms/step - loss: 0.0991 - accuracy: 0.9619\n",
            "Epoch 23/30\n",
            "1687/1688 [============================>.] - ETA: 0s - loss: 0.0972 - accuracy: 0.9633"
          ]
        },
        {
          "output_type": "stream",
          "name": "stderr",
          "text": [
            "WARNING:tensorflow:Can save best model only with val_accuracy available, skipping.\n"
          ]
        },
        {
          "output_type": "stream",
          "name": "stdout",
          "text": [
            "\b\b\b\b\b\b\b\b\b\b\b\b\b\b\b\b\b\b\b\b\b\b\b\b\b\b\b\b\b\b\b\b\b\b\b\b\b\b\b\b\b\b\b\b\b\b\b\b\b\b\b\b\b\b\b\b\b\b\b\b\b\b\b\b\b\b\b\b\b\b\b\b\b\b\b\b\b\b\b\b\b\b\b\b\b\b\r1688/1688 [==============================] - 9s 6ms/step - loss: 0.0972 - accuracy: 0.9633\n",
            "Epoch 24/30\n",
            "1682/1688 [============================>.] - ETA: 0s - loss: 0.0971 - accuracy: 0.9627"
          ]
        },
        {
          "output_type": "stream",
          "name": "stderr",
          "text": [
            "WARNING:tensorflow:Can save best model only with val_accuracy available, skipping.\n"
          ]
        },
        {
          "output_type": "stream",
          "name": "stdout",
          "text": [
            "\b\b\b\b\b\b\b\b\b\b\b\b\b\b\b\b\b\b\b\b\b\b\b\b\b\b\b\b\b\b\b\b\b\b\b\b\b\b\b\b\b\b\b\b\b\b\b\b\b\b\b\b\b\b\b\b\b\b\b\b\b\b\b\b\b\b\b\b\b\b\b\b\b\b\b\b\b\b\b\b\b\b\b\b\b\b\r1688/1688 [==============================] - 10s 6ms/step - loss: 0.0970 - accuracy: 0.9628\n",
            "Epoch 25/30\n",
            "1687/1688 [============================>.] - ETA: 0s - loss: 0.0966 - accuracy: 0.9639"
          ]
        },
        {
          "output_type": "stream",
          "name": "stderr",
          "text": [
            "WARNING:tensorflow:Can save best model only with val_accuracy available, skipping.\n"
          ]
        },
        {
          "output_type": "stream",
          "name": "stdout",
          "text": [
            "\b\b\b\b\b\b\b\b\b\b\b\b\b\b\b\b\b\b\b\b\b\b\b\b\b\b\b\b\b\b\b\b\b\b\b\b\b\b\b\b\b\b\b\b\b\b\b\b\b\b\b\b\b\b\b\b\b\b\b\b\b\b\b\b\b\b\b\b\b\b\b\b\b\b\b\b\b\b\b\b\b\b\b\b\b\b\r1688/1688 [==============================] - 10s 6ms/step - loss: 0.0966 - accuracy: 0.9639\n",
            "Epoch 26/30\n",
            "1683/1688 [============================>.] - ETA: 0s - loss: 0.0979 - accuracy: 0.9634"
          ]
        },
        {
          "output_type": "stream",
          "name": "stderr",
          "text": [
            "WARNING:tensorflow:Can save best model only with val_accuracy available, skipping.\n"
          ]
        },
        {
          "output_type": "stream",
          "name": "stdout",
          "text": [
            "\b\b\b\b\b\b\b\b\b\b\b\b\b\b\b\b\b\b\b\b\b\b\b\b\b\b\b\b\b\b\b\b\b\b\b\b\b\b\b\b\b\b\b\b\b\b\b\b\b\b\b\b\b\b\b\b\b\b\b\b\b\b\b\b\b\b\b\b\b\b\b\b\b\b\b\b\b\b\b\b\b\b\b\b\b\b\r1688/1688 [==============================] - 10s 6ms/step - loss: 0.0980 - accuracy: 0.9634\n",
            "Epoch 27/30\n",
            "1684/1688 [============================>.] - ETA: 0s - loss: 0.0919 - accuracy: 0.9655"
          ]
        },
        {
          "output_type": "stream",
          "name": "stderr",
          "text": [
            "WARNING:tensorflow:Can save best model only with val_accuracy available, skipping.\n"
          ]
        },
        {
          "output_type": "stream",
          "name": "stdout",
          "text": [
            "\b\b\b\b\b\b\b\b\b\b\b\b\b\b\b\b\b\b\b\b\b\b\b\b\b\b\b\b\b\b\b\b\b\b\b\b\b\b\b\b\b\b\b\b\b\b\b\b\b\b\b\b\b\b\b\b\b\b\b\b\b\b\b\b\b\b\b\b\b\b\b\b\b\b\b\b\b\b\b\b\b\b\b\b\b\b\r1688/1688 [==============================] - 9s 5ms/step - loss: 0.0918 - accuracy: 0.9655\n",
            "Epoch 28/30\n",
            "1680/1688 [============================>.] - ETA: 0s - loss: 0.0897 - accuracy: 0.9667"
          ]
        },
        {
          "output_type": "stream",
          "name": "stderr",
          "text": [
            "WARNING:tensorflow:Can save best model only with val_accuracy available, skipping.\n"
          ]
        },
        {
          "output_type": "stream",
          "name": "stdout",
          "text": [
            "\b\b\b\b\b\b\b\b\b\b\b\b\b\b\b\b\b\b\b\b\b\b\b\b\b\b\b\b\b\b\b\b\b\b\b\b\b\b\b\b\b\b\b\b\b\b\b\b\b\b\b\b\b\b\b\b\b\b\b\b\b\b\b\b\b\b\b\b\b\b\b\b\b\b\b\b\b\b\b\b\b\b\b\b\b\b\r1688/1688 [==============================] - 9s 6ms/step - loss: 0.0896 - accuracy: 0.9667\n",
            "Epoch 29/30\n",
            "1680/1688 [============================>.] - ETA: 0s - loss: 0.0959 - accuracy: 0.9644"
          ]
        },
        {
          "output_type": "stream",
          "name": "stderr",
          "text": [
            "WARNING:tensorflow:Can save best model only with val_accuracy available, skipping.\n"
          ]
        },
        {
          "output_type": "stream",
          "name": "stdout",
          "text": [
            "\b\b\b\b\b\b\b\b\b\b\b\b\b\b\b\b\b\b\b\b\b\b\b\b\b\b\b\b\b\b\b\b\b\b\b\b\b\b\b\b\b\b\b\b\b\b\b\b\b\b\b\b\b\b\b\b\b\b\b\b\b\b\b\b\b\b\b\b\b\b\b\b\b\b\b\b\b\b\b\b\b\b\b\b\b\b\r1688/1688 [==============================] - 10s 6ms/step - loss: 0.0958 - accuracy: 0.9644\n",
            "Epoch 30/30\n",
            "1684/1688 [============================>.] - ETA: 0s - loss: 0.0913 - accuracy: 0.9659"
          ]
        },
        {
          "output_type": "stream",
          "name": "stderr",
          "text": [
            "WARNING:tensorflow:Can save best model only with val_accuracy available, skipping.\n"
          ]
        },
        {
          "output_type": "stream",
          "name": "stdout",
          "text": [
            "\b\b\b\b\b\b\b\b\b\b\b\b\b\b\b\b\b\b\b\b\b\b\b\b\b\b\b\b\b\b\b\b\b\b\b\b\b\b\b\b\b\b\b\b\b\b\b\b\b\b\b\b\b\b\b\b\b\b\b\b\b\b\b\b\b\b\b\b\b\b\b\b\b\b\b\b\b\b\b\b\b\b\b\b\b\b\r1688/1688 [==============================] - 10s 6ms/step - loss: 0.0913 - accuracy: 0.9659\n"
          ]
        }
      ],
      "source": [
        "checkpoint_path = \"training_1/cp.ckpt\"\n",
        "checkpoint_dir = os.path.dirname(checkpoint_path)\n",
        "\n",
        "# create a callback that saves the model's weights\n",
        "cp_callback = tf.keras.callbacks.ModelCheckpoint(filepath=checkpoint_path,\n",
        "                                                 save_weights_only=True,\n",
        "                                                 verbose=1,\n",
        "                                                 save_best_only=True,\n",
        "                                                 monitor='val_accuracy')\n",
        "\n",
        "# train the model with the new callback\n",
        "stats = model.fit(train_ds, epochs=30, verbose=1, callbacks=[cp_callback])"
      ]
    },
    {
      "cell_type": "markdown",
      "metadata": {
        "id": "Le_1Ko22ckv7"
      },
      "source": [
        "This model reaches an accuracy of about 0.96 (or 96,59%) on the training data."
      ]
    },
    {
      "cell_type": "code",
      "execution_count": 13,
      "metadata": {
        "colab": {
          "base_uri": "https://localhost:8080/",
          "height": 451
        },
        "id": "iFytAgwQeKe7",
        "outputId": "4550829c-2b75-4681-e0b9-631ed93ab75a"
      },
      "outputs": [
        {
          "output_type": "display_data",
          "data": {
            "text/plain": [
              "<Figure size 800x500 with 1 Axes>"
            ],
            "image/png": "[encoded data removed]"
          },
          "metadata": {}
        }
      ],
      "source": [
        "pd.DataFrame(stats.history).plot(figsize=(8, 5))\n",
        "plt.grid(True)\n",
        "plt.gca().set_ylim(0, 1)\n",
        "plt.show()"
      ]
    },
    {
      "cell_type": "markdown",
      "source": [
        "As you can see, the metric **(accuracy) increases** with successive epochs, while the error **(loss) decreases**."
      ],
      "metadata": {
        "id": "mgsvzWNxWzys"
      }
    },
    {
      "cell_type": "markdown",
      "source": [
        "The training and inference environments are usually separate. Models need to be **saved** after they are validated. They are then loaded into the inference environments for actual prediction."
      ],
      "metadata": {
        "id": "ItLKBzxDXL6r"
      }
    },
    {
      "cell_type": "code",
      "source": [
        "import keras\n",
        "# save the model\n",
        "model.save('fashion_mnist')\n",
        "\n",
        "# load the model\n",
        "loaded_model = tf.keras.models.load_model('fashion_mnist')\n",
        "\n",
        "# print the model summary\n",
        "loaded_model.summary()"
      ],
      "metadata": {
        "colab": {
          "base_uri": "https://localhost:8080/"
        },
        "id": "DKN588UjXRzs",
        "outputId": "0890d801-f092-4ed3-87c7-d7766040a2fc"
      },
      "execution_count": 11,
      "outputs": [
        {
          "output_type": "stream",
          "name": "stderr",
          "text": [
            "WARNING:absl:Found untraced functions such as _update_step_xla while saving (showing 1 of 1). These functions will not be directly callable after loading.\n"
          ]
        },
        {
          "output_type": "stream",
          "name": "stdout",
          "text": [
            "Model: \"sequential\"\n",
            "_________________________________________________________________\n",
            " Layer (type)                Output Shape              Param #   \n",
            "=================================================================\n",
            " flatten (Flatten)           (None, 784)               0         \n",
            "                                                                 \n",
            " input_layer (Dense)         (None, 300)               235500    \n",
            "                                                                 \n",
            " hidden_layer_1 (Dense)      (None, 200)               60200     \n",
            "                                                                 \n",
            " hidden_layer_2 (Dense)      (None, 100)               20100     \n",
            "                                                                 \n",
            " output_layer (Dense)        (None, 10)                1010      \n",
            "                                                                 \n",
            "=================================================================\n",
            "Total params: 316,810\n",
            "Trainable params: 316,810\n",
            "Non-trainable params: 0\n",
            "_________________________________________________________________\n"
          ]
        }
      ]
    },
    {
      "cell_type": "markdown",
      "source": [
        "### Model evaluation\n",
        "\n",
        "Next, compare how the model performs on the test dataset:"
      ],
      "metadata": {
        "id": "DzAh3Ut6emUf"
      }
    },
    {
      "cell_type": "code",
      "source": [
        "def evaluate_model(model, X_test, y_test, stats):\n",
        "\n",
        "    # numerical prediction\n",
        "    y_pred = model.predict(X_test)\n",
        "    print(\"probs : \", y_pred[2])\n",
        "    print(\"class :\", np.argmax(y_pred[2]))\n",
        "    print(\"actual class : \", y_test[2])\n",
        "\n",
        "    # model results visualization\n",
        "    pd.DataFrame(stats.history).plot(figsize=(8, 5))\n",
        "    plt.grid(True)\n",
        "    plt.gca().set_ylim(0, 1)\n",
        "    plt.show()\n",
        "\n",
        "    # f1_score\n",
        "    y_pred = np.argmax(y_pred,axis=1)\n",
        "    scores = f1_score(y_test, y_pred, average='macro')\n",
        "    print(f'F1 Score : {scores}')\n",
        "\n",
        "    # confusion matrix\n",
        "    conf_mx = confusion_matrix(y_test, y_pred)\n",
        "    row_sums = conf_mx.sum(axis=1, keepdims=True)\n",
        "    norm_conf_mx = conf_mx / row_sums\n",
        "    np.fill_diagonal(norm_conf_mx, 0)\n",
        "    plt.matshow(conf_mx, cmap='Dark2')\n",
        "    plt.title('Confusion Matrix')\n",
        "    plt.show()\n",
        "\n",
        "    # treu label\n",
        "    plt.imshow(np.array(X_test[2]))\n",
        "    plt.title('True image')\n",
        "    plt.title(y_test[2])"
      ],
      "metadata": {
        "id": "2zSK7KnhmEV6"
      },
      "execution_count": 25,
      "outputs": []
    },
    {
      "cell_type": "code",
      "source": [
        "evaluate_model(model, X_test, y_test, stats)"
      ],
      "metadata": {
        "colab": {
          "base_uri": "https://localhost:8080/",
          "height": 1000
        },
        "id": "d2-WYXf7mLiU",
        "outputId": "a7e8722e-bd99-426c-b7dd-8691e15598fc"
      },
      "execution_count": 27,
      "outputs": [
        {
          "output_type": "stream",
          "name": "stdout",
          "text": [
            "188/188 [==============================] - 1s 6ms/step\n",
            "probs :  [1.1328838e-24 1.8719559e-22 9.8162252e-26 1.3701905e-21 2.7140004e-24\n",
            " 8.8423544e-09 3.9206308e-23 9.9999994e-01 6.1215749e-18 1.3148245e-10]\n",
            "klasa : 7\n",
            "rzeczywista klasa:  7\n"
          ]
        },
        {
          "output_type": "display_data",
          "data": {
            "text/plain": [
              "<Figure size 800x500 with 1 Axes>"
            ],
            "image/png": "[encoded data removed]"
          },
          "metadata": {}
        },
        {
          "output_type": "stream",
          "name": "stdout",
          "text": [
            "F1 Score modelu to 0.8898407768452359\n"
          ]
        },
        {
          "output_type": "display_data",
          "data": {
            "text/plain": [
              "<Figure size 480x480 with 1 Axes>"
            ],
            "image/png": "[encoded data removed]"
          },
          "metadata": {}
        },
        {
          "output_type": "display_data",
          "data": {
            "text/plain": [
              "<Figure size 640x480 with 1 Axes>"
            ],
            "image/png": "[encoded data removed]"
          },
          "metadata": {}
        }
      ]
    },
    {
      "cell_type": "markdown",
      "source": [
        "The model correctly classified the image."
      ],
      "metadata": {
        "id": "0JMPPKARrnZl"
      }
    },
    {
      "cell_type": "markdown",
      "source": [
        "## Albumentations\n",
        "\n",
        "Albumentations is a Python library for image augmentation. Image augmentation is used in deep learning and computer vision tasks to increase the quality of trained models. The purpose of image augmentation is to create new training samples from the existing data."
      ],
      "metadata": {
        "id": "DUJ88a7YtFGE"
      }
    },
    {
      "cell_type": "code",
      "source": [
        "import albumentations as A"
      ],
      "metadata": {
        "id": "OCrtigjXtm3n"
      },
      "execution_count": 48,
      "outputs": []
    },
    {
      "cell_type": "code",
      "source": [
        "def albumentation(data):\n",
        "\n",
        "    fliped_images = []\n",
        "\n",
        "    for image in data:\n",
        "\n",
        "        # Declare an augmentation pipeline\n",
        "        transform = A.Compose([\n",
        "        A.HorizontalFlip(p=1),\n",
        "        A.GaussNoise(var_limit=(0.0001, 0.017), always_apply=True)\n",
        "        ])\n",
        "\n",
        "        transformed = transform(image=image)\n",
        "        new_image = transformed['image']\n",
        "        fliped_images.append(new_image)\n",
        "\n",
        "\n",
        "\n",
        "    images_2 = np.array(fliped_images)\n",
        "\n",
        "    return images_2"
      ],
      "metadata": {
        "id": "DgprUF432rtn"
      },
      "execution_count": 49,
      "outputs": []
    },
    {
      "cell_type": "code",
      "source": [
        "train_2, test_2 = tf.keras.datasets.fashion_mnist.load_data()\n",
        "images_2, labels_2 = train_2\n",
        "\n",
        "images_2 = images_2/255.0\n",
        "\n",
        "labels_2 = labels_2.astype(np.int32)"
      ],
      "metadata": {
        "id": "XJ0q6SRa1vyw"
      },
      "execution_count": 63,
      "outputs": []
    },
    {
      "cell_type": "code",
      "source": [
        "# create new images with albumentation function\n",
        "new_images = albumentation(images_2)"
      ],
      "metadata": {
        "id": "X4v9MYLs2jfp"
      },
      "execution_count": 64,
      "outputs": []
    },
    {
      "cell_type": "code",
      "source": [
        "np.shape(new_images)"
      ],
      "metadata": {
        "colab": {
          "base_uri": "https://localhost:8080/"
        },
        "id": "h32UKrCO28UR",
        "outputId": "c4822628-14e2-490f-cc67-5532f9f122e8"
      },
      "execution_count": 65,
      "outputs": [
        {
          "output_type": "execute_result",
          "data": {
            "text/plain": [
              "(60000, 28, 28)"
            ]
          },
          "metadata": {},
          "execution_count": 65
        }
      ]
    },
    {
      "cell_type": "code",
      "source": [
        "# split new data\n",
        "X_train_2, X_test_2, y_train_2, y_test_2 = train_test_split(new_images, labels_2, test_size=0.1, random_state=10, stratify=labels_2)"
      ],
      "metadata": {
        "id": "hwhNtBA73X0k"
      },
      "execution_count": 66,
      "outputs": []
    },
    {
      "cell_type": "code",
      "source": [
        "train_ds_2 = tf.data.Dataset.from_tensor_slices((X_train_2, y_train_2))"
      ],
      "metadata": {
        "id": "S1gmkL2T3aQi"
      },
      "execution_count": 67,
      "outputs": []
    },
    {
      "cell_type": "code",
      "source": [
        "train_ds_2 = train_ds_2.shuffle(1000).batch(32)"
      ],
      "metadata": {
        "id": "TdlohN6t3c30"
      },
      "execution_count": 68,
      "outputs": []
    },
    {
      "cell_type": "code",
      "source": [
        "# train the model\n",
        "stats = model.fit(train_ds_2, epochs=20, verbose=1, callbacks=[cp_callback])"
      ],
      "metadata": {
        "colab": {
          "base_uri": "https://localhost:8080/"
        },
        "id": "Q6BvRJyn3fWr",
        "outputId": "6df0e7c2-2225-4df4-e182-56a1b358e38e"
      },
      "execution_count": 69,
      "outputs": [
        {
          "output_type": "stream",
          "name": "stdout",
          "text": [
            "Epoch 1/20\n",
            "1688/1688 [==============================] - ETA: 0s - loss: 0.2129 - accuracy: 0.9236"
          ]
        },
        {
          "output_type": "stream",
          "name": "stderr",
          "text": [
            "WARNING:tensorflow:Can save best model only with val_accuracy available, skipping.\n"
          ]
        },
        {
          "output_type": "stream",
          "name": "stdout",
          "text": [
            "\b\b\b\b\b\b\b\b\b\b\b\b\b\b\b\b\b\b\b\b\b\b\b\b\b\b\b\b\b\b\b\b\b\b\b\b\b\b\b\b\b\b\b\b\b\b\b\b\b\b\b\b\b\b\b\b\b\b\b\b\b\b\b\b\b\b\b\b\b\b\b\b\b\b\b\b\b\b\b\b\b\b\b\b\b\b\r1688/1688 [==============================] - 11s 6ms/step - loss: 0.2129 - accuracy: 0.9236\n",
            "Epoch 2/20\n",
            "1688/1688 [==============================] - ETA: 0s - loss: 0.1684 - accuracy: 0.9353"
          ]
        },
        {
          "output_type": "stream",
          "name": "stderr",
          "text": [
            "WARNING:tensorflow:Can save best model only with val_accuracy available, skipping.\n"
          ]
        },
        {
          "output_type": "stream",
          "name": "stdout",
          "text": [
            "\b\b\b\b\b\b\b\b\b\b\b\b\b\b\b\b\b\b\b\b\b\b\b\b\b\b\b\b\b\b\b\b\b\b\b\b\b\b\b\b\b\b\b\b\b\b\b\b\b\b\b\b\b\b\b\b\b\b\b\b\b\b\b\b\b\b\b\b\b\b\b\b\b\b\b\b\b\b\b\b\b\b\b\b\b\b\r1688/1688 [==============================] - 11s 6ms/step - loss: 0.1684 - accuracy: 0.9353\n",
            "Epoch 3/20\n",
            "1682/1688 [============================>.] - ETA: 0s - loss: 0.1571 - accuracy: 0.9384"
          ]
        },
        {
          "output_type": "stream",
          "name": "stderr",
          "text": [
            "WARNING:tensorflow:Can save best model only with val_accuracy available, skipping.\n"
          ]
        },
        {
          "output_type": "stream",
          "name": "stdout",
          "text": [
            "\b\b\b\b\b\b\b\b\b\b\b\b\b\b\b\b\b\b\b\b\b\b\b\b\b\b\b\b\b\b\b\b\b\b\b\b\b\b\b\b\b\b\b\b\b\b\b\b\b\b\b\b\b\b\b\b\b\b\b\b\b\b\b\b\b\b\b\b\b\b\b\b\b\b\b\b\b\b\b\b\b\b\b\b\b\b\r1688/1688 [==============================] - 10s 6ms/step - loss: 0.1570 - accuracy: 0.9385\n",
            "Epoch 4/20\n",
            "1679/1688 [============================>.] - ETA: 0s - loss: 0.1421 - accuracy: 0.9455"
          ]
        },
        {
          "output_type": "stream",
          "name": "stderr",
          "text": [
            "WARNING:tensorflow:Can save best model only with val_accuracy available, skipping.\n"
          ]
        },
        {
          "output_type": "stream",
          "name": "stdout",
          "text": [
            "\b\b\b\b\b\b\b\b\b\b\b\b\b\b\b\b\b\b\b\b\b\b\b\b\b\b\b\b\b\b\b\b\b\b\b\b\b\b\b\b\b\b\b\b\b\b\b\b\b\b\b\b\b\b\b\b\b\b\b\b\b\b\b\b\b\b\b\b\b\b\b\b\b\b\b\b\b\b\b\b\b\b\b\b\b\b\r1688/1688 [==============================] - 10s 6ms/step - loss: 0.1423 - accuracy: 0.9455\n",
            "Epoch 5/20\n",
            "1683/1688 [============================>.] - ETA: 0s - loss: 0.1355 - accuracy: 0.9465"
          ]
        },
        {
          "output_type": "stream",
          "name": "stderr",
          "text": [
            "WARNING:tensorflow:Can save best model only with val_accuracy available, skipping.\n"
          ]
        },
        {
          "output_type": "stream",
          "name": "stdout",
          "text": [
            "\b\b\b\b\b\b\b\b\b\b\b\b\b\b\b\b\b\b\b\b\b\b\b\b\b\b\b\b\b\b\b\b\b\b\b\b\b\b\b\b\b\b\b\b\b\b\b\b\b\b\b\b\b\b\b\b\b\b\b\b\b\b\b\b\b\b\b\b\b\b\b\b\b\b\b\b\b\b\b\b\b\b\b\b\b\b\r1688/1688 [==============================] - 10s 6ms/step - loss: 0.1354 - accuracy: 0.9466\n",
            "Epoch 6/20\n",
            "1688/1688 [==============================] - ETA: 0s - loss: 0.1290 - accuracy: 0.9503"
          ]
        },
        {
          "output_type": "stream",
          "name": "stderr",
          "text": [
            "WARNING:tensorflow:Can save best model only with val_accuracy available, skipping.\n"
          ]
        },
        {
          "output_type": "stream",
          "name": "stdout",
          "text": [
            "\b\b\b\b\b\b\b\b\b\b\b\b\b\b\b\b\b\b\b\b\b\b\b\b\b\b\b\b\b\b\b\b\b\b\b\b\b\b\b\b\b\b\b\b\b\b\b\b\b\b\b\b\b\b\b\b\b\b\b\b\b\b\b\b\b\b\b\b\b\b\b\b\b\b\b\b\b\b\b\b\b\b\b\b\b\b\r1688/1688 [==============================] - 11s 7ms/step - loss: 0.1290 - accuracy: 0.9503\n",
            "Epoch 7/20\n",
            "1687/1688 [============================>.] - ETA: 0s - loss: 0.1253 - accuracy: 0.9524"
          ]
        },
        {
          "output_type": "stream",
          "name": "stderr",
          "text": [
            "WARNING:tensorflow:Can save best model only with val_accuracy available, skipping.\n"
          ]
        },
        {
          "output_type": "stream",
          "name": "stdout",
          "text": [
            "\b\b\b\b\b\b\b\b\b\b\b\b\b\b\b\b\b\b\b\b\b\b\b\b\b\b\b\b\b\b\b\b\b\b\b\b\b\b\b\b\b\b\b\b\b\b\b\b\b\b\b\b\b\b\b\b\b\b\b\b\b\b\b\b\b\b\b\b\b\b\b\b\b\b\b\b\b\b\b\b\b\b\b\b\b\b\r1688/1688 [==============================] - 10s 6ms/step - loss: 0.1252 - accuracy: 0.9525\n",
            "Epoch 8/20\n",
            "1680/1688 [============================>.] - ETA: 0s - loss: 0.1205 - accuracy: 0.9546"
          ]
        },
        {
          "output_type": "stream",
          "name": "stderr",
          "text": [
            "WARNING:tensorflow:Can save best model only with val_accuracy available, skipping.\n"
          ]
        },
        {
          "output_type": "stream",
          "name": "stdout",
          "text": [
            "\b\b\b\b\b\b\b\b\b\b\b\b\b\b\b\b\b\b\b\b\b\b\b\b\b\b\b\b\b\b\b\b\b\b\b\b\b\b\b\b\b\b\b\b\b\b\b\b\b\b\b\b\b\b\b\b\b\b\b\b\b\b\b\b\b\b\b\b\b\b\b\b\b\b\b\b\b\b\b\b\b\b\b\b\b\b\r1688/1688 [==============================] - 10s 6ms/step - loss: 0.1204 - accuracy: 0.9546\n",
            "Epoch 9/20\n",
            "1687/1688 [============================>.] - ETA: 0s - loss: 0.1106 - accuracy: 0.9571"
          ]
        },
        {
          "output_type": "stream",
          "name": "stderr",
          "text": [
            "WARNING:tensorflow:Can save best model only with val_accuracy available, skipping.\n"
          ]
        },
        {
          "output_type": "stream",
          "name": "stdout",
          "text": [
            "\b\b\b\b\b\b\b\b\b\b\b\b\b\b\b\b\b\b\b\b\b\b\b\b\b\b\b\b\b\b\b\b\b\b\b\b\b\b\b\b\b\b\b\b\b\b\b\b\b\b\b\b\b\b\b\b\b\b\b\b\b\b\b\b\b\b\b\b\b\b\b\b\b\b\b\b\b\b\b\b\b\b\b\b\b\b\r1688/1688 [==============================] - 10s 6ms/step - loss: 0.1106 - accuracy: 0.9571\n",
            "Epoch 10/20\n",
            "1681/1688 [============================>.] - ETA: 0s - loss: 0.1120 - accuracy: 0.9577"
          ]
        },
        {
          "output_type": "stream",
          "name": "stderr",
          "text": [
            "WARNING:tensorflow:Can save best model only with val_accuracy available, skipping.\n"
          ]
        },
        {
          "output_type": "stream",
          "name": "stdout",
          "text": [
            "\b\b\b\b\b\b\b\b\b\b\b\b\b\b\b\b\b\b\b\b\b\b\b\b\b\b\b\b\b\b\b\b\b\b\b\b\b\b\b\b\b\b\b\b\b\b\b\b\b\b\b\b\b\b\b\b\b\b\b\b\b\b\b\b\b\b\b\b\b\b\b\b\b\b\b\b\b\b\b\b\b\b\b\b\b\b\r1688/1688 [==============================] - 10s 6ms/step - loss: 0.1119 - accuracy: 0.9577\n",
            "Epoch 11/20\n",
            "1687/1688 [============================>.] - ETA: 0s - loss: 0.1100 - accuracy: 0.9593"
          ]
        },
        {
          "output_type": "stream",
          "name": "stderr",
          "text": [
            "WARNING:tensorflow:Can save best model only with val_accuracy available, skipping.\n"
          ]
        },
        {
          "output_type": "stream",
          "name": "stdout",
          "text": [
            "\b\b\b\b\b\b\b\b\b\b\b\b\b\b\b\b\b\b\b\b\b\b\b\b\b\b\b\b\b\b\b\b\b\b\b\b\b\b\b\b\b\b\b\b\b\b\b\b\b\b\b\b\b\b\b\b\b\b\b\b\b\b\b\b\b\b\b\b\b\b\b\b\b\b\b\b\b\b\b\b\b\b\b\b\b\b\r1688/1688 [==============================] - 11s 6ms/step - loss: 0.1100 - accuracy: 0.9593\n",
            "Epoch 12/20\n",
            "1685/1688 [============================>.] - ETA: 0s - loss: 0.1092 - accuracy: 0.9594"
          ]
        },
        {
          "output_type": "stream",
          "name": "stderr",
          "text": [
            "WARNING:tensorflow:Can save best model only with val_accuracy available, skipping.\n"
          ]
        },
        {
          "output_type": "stream",
          "name": "stdout",
          "text": [
            "\b\b\b\b\b\b\b\b\b\b\b\b\b\b\b\b\b\b\b\b\b\b\b\b\b\b\b\b\b\b\b\b\b\b\b\b\b\b\b\b\b\b\b\b\b\b\b\b\b\b\b\b\b\b\b\b\b\b\b\b\b\b\b\b\b\b\b\b\b\b\b\b\b\b\b\b\b\b\b\b\b\b\b\b\b\b\r1688/1688 [==============================] - 10s 6ms/step - loss: 0.1093 - accuracy: 0.9594\n",
            "Epoch 13/20\n",
            "1688/1688 [==============================] - ETA: 0s - loss: 0.0962 - accuracy: 0.9626"
          ]
        },
        {
          "output_type": "stream",
          "name": "stderr",
          "text": [
            "WARNING:tensorflow:Can save best model only with val_accuracy available, skipping.\n"
          ]
        },
        {
          "output_type": "stream",
          "name": "stdout",
          "text": [
            "\b\b\b\b\b\b\b\b\b\b\b\b\b\b\b\b\b\b\b\b\b\b\b\b\b\b\b\b\b\b\b\b\b\b\b\b\b\b\b\b\b\b\b\b\b\b\b\b\b\b\b\b\b\b\b\b\b\b\b\b\b\b\b\b\b\b\b\b\b\b\b\b\b\b\b\b\b\b\b\b\b\b\b\b\b\b\r1688/1688 [==============================] - 11s 6ms/step - loss: 0.0962 - accuracy: 0.9626\n",
            "Epoch 14/20\n",
            "1688/1688 [==============================] - ETA: 0s - loss: 0.0975 - accuracy: 0.9630"
          ]
        },
        {
          "output_type": "stream",
          "name": "stderr",
          "text": [
            "WARNING:tensorflow:Can save best model only with val_accuracy available, skipping.\n"
          ]
        },
        {
          "output_type": "stream",
          "name": "stdout",
          "text": [
            "\b\b\b\b\b\b\b\b\b\b\b\b\b\b\b\b\b\b\b\b\b\b\b\b\b\b\b\b\b\b\b\b\b\b\b\b\b\b\b\b\b\b\b\b\b\b\b\b\b\b\b\b\b\b\b\b\b\b\b\b\b\b\b\b\b\b\b\b\b\b\b\b\b\b\b\b\b\b\b\b\b\b\b\b\b\b\r1688/1688 [==============================] - 11s 6ms/step - loss: 0.0975 - accuracy: 0.9630\n",
            "Epoch 15/20\n",
            "1688/1688 [==============================] - ETA: 0s - loss: 0.0973 - accuracy: 0.9629"
          ]
        },
        {
          "output_type": "stream",
          "name": "stderr",
          "text": [
            "WARNING:tensorflow:Can save best model only with val_accuracy available, skipping.\n"
          ]
        },
        {
          "output_type": "stream",
          "name": "stdout",
          "text": [
            "\b\b\b\b\b\b\b\b\b\b\b\b\b\b\b\b\b\b\b\b\b\b\b\b\b\b\b\b\b\b\b\b\b\b\b\b\b\b\b\b\b\b\b\b\b\b\b\b\b\b\b\b\b\b\b\b\b\b\b\b\b\b\b\b\b\b\b\b\b\b\b\b\b\b\b\b\b\b\b\b\b\b\b\b\b\b\r1688/1688 [==============================] - 11s 6ms/step - loss: 0.0973 - accuracy: 0.9629\n",
            "Epoch 16/20\n",
            "1681/1688 [============================>.] - ETA: 0s - loss: 0.0888 - accuracy: 0.9667"
          ]
        },
        {
          "output_type": "stream",
          "name": "stderr",
          "text": [
            "WARNING:tensorflow:Can save best model only with val_accuracy available, skipping.\n"
          ]
        },
        {
          "output_type": "stream",
          "name": "stdout",
          "text": [
            "\b\b\b\b\b\b\b\b\b\b\b\b\b\b\b\b\b\b\b\b\b\b\b\b\b\b\b\b\b\b\b\b\b\b\b\b\b\b\b\b\b\b\b\b\b\b\b\b\b\b\b\b\b\b\b\b\b\b\b\b\b\b\b\b\b\b\b\b\b\b\b\b\b\b\b\b\b\b\b\b\b\b\b\b\b\b\r1688/1688 [==============================] - 11s 7ms/step - loss: 0.0887 - accuracy: 0.9667\n",
            "Epoch 17/20\n",
            "1684/1688 [============================>.] - ETA: 0s - loss: 0.0891 - accuracy: 0.9662"
          ]
        },
        {
          "output_type": "stream",
          "name": "stderr",
          "text": [
            "WARNING:tensorflow:Can save best model only with val_accuracy available, skipping.\n"
          ]
        },
        {
          "output_type": "stream",
          "name": "stdout",
          "text": [
            "\b\b\b\b\b\b\b\b\b\b\b\b\b\b\b\b\b\b\b\b\b\b\b\b\b\b\b\b\b\b\b\b\b\b\b\b\b\b\b\b\b\b\b\b\b\b\b\b\b\b\b\b\b\b\b\b\b\b\b\b\b\b\b\b\b\b\b\b\b\b\b\b\b\b\b\b\b\b\b\b\b\b\b\b\b\b\r1688/1688 [==============================] - 11s 6ms/step - loss: 0.0892 - accuracy: 0.9661\n",
            "Epoch 18/20\n",
            "1681/1688 [============================>.] - ETA: 0s - loss: 0.0875 - accuracy: 0.9673"
          ]
        },
        {
          "output_type": "stream",
          "name": "stderr",
          "text": [
            "WARNING:tensorflow:Can save best model only with val_accuracy available, skipping.\n"
          ]
        },
        {
          "output_type": "stream",
          "name": "stdout",
          "text": [
            "\b\b\b\b\b\b\b\b\b\b\b\b\b\b\b\b\b\b\b\b\b\b\b\b\b\b\b\b\b\b\b\b\b\b\b\b\b\b\b\b\b\b\b\b\b\b\b\b\b\b\b\b\b\b\b\b\b\b\b\b\b\b\b\b\b\b\b\b\b\b\b\b\b\b\b\b\b\b\b\b\b\b\b\b\b\b\r1688/1688 [==============================] - 11s 6ms/step - loss: 0.0875 - accuracy: 0.9673\n",
            "Epoch 19/20\n",
            "1684/1688 [============================>.] - ETA: 0s - loss: 0.0858 - accuracy: 0.9688"
          ]
        },
        {
          "output_type": "stream",
          "name": "stderr",
          "text": [
            "WARNING:tensorflow:Can save best model only with val_accuracy available, skipping.\n"
          ]
        },
        {
          "output_type": "stream",
          "name": "stdout",
          "text": [
            "\b\b\b\b\b\b\b\b\b\b\b\b\b\b\b\b\b\b\b\b\b\b\b\b\b\b\b\b\b\b\b\b\b\b\b\b\b\b\b\b\b\b\b\b\b\b\b\b\b\b\b\b\b\b\b\b\b\b\b\b\b\b\b\b\b\b\b\b\b\b\b\b\b\b\b\b\b\b\b\b\b\b\b\b\b\b\r1688/1688 [==============================] - 11s 6ms/step - loss: 0.0857 - accuracy: 0.9687\n",
            "Epoch 20/20\n",
            "1680/1688 [============================>.] - ETA: 0s - loss: 0.0807 - accuracy: 0.9706"
          ]
        },
        {
          "output_type": "stream",
          "name": "stderr",
          "text": [
            "WARNING:tensorflow:Can save best model only with val_accuracy available, skipping.\n"
          ]
        },
        {
          "output_type": "stream",
          "name": "stdout",
          "text": [
            "\b\b\b\b\b\b\b\b\b\b\b\b\b\b\b\b\b\b\b\b\b\b\b\b\b\b\b\b\b\b\b\b\b\b\b\b\b\b\b\b\b\b\b\b\b\b\b\b\b\b\b\b\b\b\b\b\b\b\b\b\b\b\b\b\b\b\b\b\b\b\b\b\b\b\b\b\b\b\b\b\b\b\b\b\b\b\r1688/1688 [==============================] - 11s 6ms/step - loss: 0.0807 - accuracy: 0.9707\n"
          ]
        }
      ]
    },
    {
      "cell_type": "markdown",
      "source": [
        "This model reaches an accuracy of about 0.97 (or 97,07%) on the training data."
      ],
      "metadata": {
        "id": "f5c9GDlA99X2"
      }
    }
  ],
  "metadata": {
    "colab": {
      "provenance": [],
      "authorship_tag": "ABX9TyPXOyh9efXd5HYLNmiHrmt9",
      "include_colab_link": true
    },
    "kernelspec": {
      "display_name": "Python 3",
      "name": "python3"
    },
    "language_info": {
      "name": "python"
    }
  },
  "nbformat": 4,
  "nbformat_minor": 0
}